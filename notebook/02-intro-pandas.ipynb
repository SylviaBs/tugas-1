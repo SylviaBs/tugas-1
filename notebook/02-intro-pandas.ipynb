{
  "nbformat": 4,
  "nbformat_minor": 0,
  "metadata": {
    "colab": {
      "provenance": [],
      "include_colab_link": true
    },
    "kernelspec": {
      "display_name": "Python 3",
      "language": "python",
      "name": "python3"
    }
  },
  "cells": [
    {
      "cell_type": "markdown",
      "metadata": {
        "id": "view-in-github",
        "colab_type": "text"
      },
      "source": [
        "<a href=\"https://colab.research.google.com/github/SylviaBs/tugas-1/blob/main/notebook/02-intro-pandas.ipynb\" target=\"_parent\"><img src=\"https://colab.research.google.com/assets/colab-badge.svg\" alt=\"Open In Colab\"/></a>"
      ]
    },
    {
      "cell_type": "markdown",
      "metadata": {
        "id": "01hdRxSHZF0T"
      },
      "source": [
        "Sumber:\n",
        "https://colab.research.google.com/notebooks/mlcc/intro_to_pandas.ipynb"
      ]
    },
    {
      "cell_type": "markdown",
      "metadata": {
        "id": "YzJwx49KE-m3"
      },
      "source": [
        "# Konsep Dasar Pandas\n",
        "\n"
      ]
    },
    {
      "cell_type": "markdown",
      "metadata": {
        "id": "99XDq7k-kOi0"
      },
      "source": [
        "#### Import modul pandas\n",
        "\n",
        "Untuk bisa menggunakan modul pandas, terlebih dahulu Anda harus memanggil modul ini dengan perintah `import`."
      ]
    },
    {
      "cell_type": "code",
      "metadata": {
        "id": "fLkGn4D9kOi1"
      },
      "source": [
        "import pandas as pd"
      ],
      "execution_count": null,
      "outputs": []
    },
    {
      "cell_type": "markdown",
      "metadata": {
        "id": "NB9RgekNkOi5"
      },
      "source": [
        "#### Buat DataFrame sederhana\n",
        "\n",
        "Panduan lengkap membuat _DataFrame_ Anda bisa akses di https://pandas.pydata.org/pandas-docs/stable/generated/pandas.DataFrame.html.\n",
        "\n",
        "Berikut beberapa cara sederhana untuk membuat _DataFrame_ dari _list_ atau _dictionary_"
      ]
    },
    {
      "cell_type": "code",
      "metadata": {
        "id": "BoXrGzUlkOjG"
      },
      "source": [
        "# CARA 1\n",
        "data = {'name':['Bob','Jen','Tim'],\n",
        "        'age':[20,30,40],\n",
        "        'pet':['cat', 'dog', 'bird']}\n",
        "df = pd.DataFrame(data)\n",
        "\n",
        "df"
      ],
      "execution_count": null,
      "outputs": []
    },
    {
      "cell_type": "code",
      "source": [
        "# CARA 2\n",
        "data = [['Bob',20,'cat'],['Jen',30,'dog'],['Tim',40,'bird']]\n",
        "df = pd.DataFrame(data, columns=['name','age','pet'])\n",
        "\n",
        "df"
      ],
      "metadata": {
        "id": "keTEUv5rZpcD"
      },
      "execution_count": null,
      "outputs": []
    },
    {
      "cell_type": "markdown",
      "metadata": {
        "id": "sIEf3y-zkOjL"
      },
      "source": [
        "#### Melihat nama kolom\n",
        "\n",
        "Indeks adalah salah satu konsep terpenting dalam panda.\n",
        "\n",
        "Setiap _DataFrame_ hanya memiliki satu indeks yang selalu tersedia sebagai `df.index` dan jika Anda tidak menyediakannya (seperti yang tidak kami lakukan untuk kerangka data ini), yang baru akan dibuat secara otomatis.\n",
        "\n",
        "Indeks menentukan cara mengakses baris kerangka data.\n",
        "\n",
        "Indeks paling sederhana adalah indeks rentang tetapi ada yang lebih kompleks seperti indeks interval, indeks waktu dan indeks multi.\n",
        "\n",
        "Kami akan mengeksplorasi indeks lebih mendalam selama kuliah ini."
      ]
    },
    {
      "cell_type": "code",
      "metadata": {
        "id": "6_Fzxp3VkOjL"
      },
      "source": [
        "df.columns\n"
      ],
      "execution_count": null,
      "outputs": []
    },
    {
      "cell_type": "code",
      "source": [
        "df.index"
      ],
      "metadata": {
        "id": "I8rJiCVS8ekn"
      },
      "execution_count": null,
      "outputs": []
    },
    {
      "cell_type": "markdown",
      "metadata": {
        "id": "eufnrS7HkOjQ"
      },
      "source": [
        "#### Pilih kolom berdasarkan nama dengan 2 cara berbeda\n",
        "\n",
        "Kedua cara ini setara dan hampir selalu dapat digunakan secara bergantian.\n",
        "\n",
        "Pengecualian utama adalah ketika nama kolom berisi spasi. Jika misalnya kita memiliki kolom bernama \"sales weekly\", kita harus menggunakan `df['sales weekly']` karena `df.sales weekly` adalah kesalahan sintaksis."
      ]
    },
    {
      "cell_type": "code",
      "metadata": {
        "id": "VoZhc6lRkOjR"
      },
      "source": [
        "print(df['name'])"
      ],
      "execution_count": null,
      "outputs": []
    },
    {
      "cell_type": "code",
      "source": [
        "print(df.name)"
      ],
      "metadata": {
        "id": "Qkt02gKkghU1"
      },
      "execution_count": null,
      "outputs": []
    },
    {
      "cell_type": "markdown",
      "metadata": {
        "id": "jJZ9IfaskOjX"
      },
      "source": [
        "#### Pilih beberapa kolom\n",
        "\n",
        "Untuk memilih banyak kolom, kami menggunakan `df[columns_to_select]` di mana `columns_to_select` adalah kolom yang ingin kami berikan sebagai daftar python sederhana. Hasilnya kita akan mendapatkan data frame yang lain.\n",
        "\n",
        "Ini setara dengan mencantumkan nama kolom di bagian `SELECT` dari kueri sql."
      ]
    },
    {
      "cell_type": "code",
      "metadata": {
        "id": "FkVfaB75kOjY"
      },
      "source": [
        "df[['name','pet']]"
      ],
      "execution_count": null,
      "outputs": []
    },
    {
      "cell_type": "markdown",
      "metadata": {
        "id": "OE9TSPbIkOja"
      },
      "source": [
        "#### Pilih baris berdasarkan indeks\n",
        "\n",
        "Pemilihan baris secara teratur dilakukan melalui indeksnya. Saat menggunakan indeks rentang, kami dapat mengakses baris menggunakan indeks bilangan bulat tetapi ini tidak akan berfungsi saat menggunakan indeks datetime misalnya.\n",
        "\n",
        "Kami selalu dapat mengakses setiap baris dalam kerangka data menggunakan `.iloc[i]` untuk beberapa bilangan bulat i.\n",
        "\n",
        "Hasilnya adalah objek seri dari mana kita dapat mengakses nilai dengan menggunakan pengindeksan kolom."
      ]
    },
    {
      "cell_type": "code",
      "metadata": {
        "id": "bcAzbzTqkOjb"
      },
      "source": [
        "df.iloc[0]"
      ],
      "execution_count": null,
      "outputs": []
    },
    {
      "cell_type": "markdown",
      "metadata": {
        "id": "i3Te1iN8kOje"
      },
      "source": [
        "### Sort Function\n",
        "\n",
        "- pandas.pydata.org\n",
        "- https://pandas.pydata.org/pandas-docs/stable/generated/pandas.DataFrame.sort_values.html"
      ]
    },
    {
      "cell_type": "markdown",
      "metadata": {
        "id": "nuHk1Tv9kOjf"
      },
      "source": [
        "#### Urutkan data berdasarkan `pet`\n",
        "\n",
        "Ada dua cara untuk mengurutkan.\n",
        "- Berdasarkan indeks\n",
        "- Berdasarkan nilai\n",
        "\n",
        "Dengan nilai berarti menyortir menurut nilai dalam kolom.\n",
        "\n",
        "Dalam contoh ini kita mengurutkan data pada _DataFrame_ berdasarkan nilai di kolom `pet`.\n",
        "\n",
        "Parameter `ascending = True` berarti kita ingin baris diurutkan dalam urutan menaik. Ini sama dengan sql 'ASC'. Untuk mendapatkan urutan menurun gunakan `ascending = False`.\n",
        "\n",
        "`inplace` sangat penting dan Anda harus selalu mengingatnya. Ketika `inplace=True` kerangka data dimodifikasi di tempat yang berarti tidak ada salinan yang dibuat dan data Anda sebelumnya yang disimpan dalam kerangka data hilang. Secara default inplace selalu False. Ketika salah, salinan dibuat dari data Anda dan salinan itu diurutkan dan dikembalikan sebagai keluaran.\n",
        "\n",
        "Output dari `sort_values` selalu merupakan kerangka data yang dikembalikan tetapi perilakunya sangat bergantung pada parameter `inplace`."
      ]
    },
    {
      "cell_type": "code",
      "metadata": {
        "id": "ps41Q076kOjj"
      },
      "source": [
        "df.sort_values('pet',inplace=True, ascending=True)"
      ],
      "execution_count": null,
      "outputs": []
    },
    {
      "cell_type": "markdown",
      "metadata": {
        "id": "j6l52q0UkOjn"
      },
      "source": [
        "### Indexing with DataFrames\n",
        "\n",
        "Everything we discussed about indexing in numpy arrays applies to dataframes as well.\n",
        "\n",
        "DataFrames are very similar to 2d-arrays with the main exception being that in DataFrames you can index using strings (column names)."
      ]
    },
    {
      "cell_type": "markdown",
      "metadata": {
        "id": "_fe-5qLBkOjn"
      },
      "source": [
        "#### View the index after the sort"
      ]
    },
    {
      "cell_type": "code",
      "metadata": {
        "id": "4gvrRF4skOjp"
      },
      "source": [
        "df"
      ],
      "execution_count": null,
      "outputs": []
    },
    {
      "cell_type": "markdown",
      "metadata": {
        "id": "RVNBwy34kOjv"
      },
      "source": [
        "#### Perbedaan antara `loc` dan `iloc`\n",
        "\n",
        "- `.loc` memilih data berdasarkan nilai index.\n",
        "- `.iloc` memilih berdasarkan nomor posisi."
      ]
    },
    {
      "cell_type": "code",
      "metadata": {
        "id": "N5YSm2zskOjw"
      },
      "source": [
        "df.loc[0] #index based"
      ],
      "execution_count": null,
      "outputs": []
    },
    {
      "cell_type": "code",
      "metadata": {
        "id": "ZHQ5U2QEPziO"
      },
      "source": [
        "df.iloc[0] #relative position based indexing"
      ],
      "execution_count": null,
      "outputs": []
    },
    {
      "cell_type": "markdown",
      "metadata": {
        "id": "DKYsBGgVkOjx"
      },
      "source": [
        "#### Gunakan `iloc` untuk memilih semua baris pada kolom\n",
        "\n",
        "Berikut contoh perintah memilih seluruh baris pada kolom ke-2.\n",
        "\n",
        "Ingat `:` = `::1`\n",
        "\n",
        "Pada konteks _DataFrame_, angka pertama selalu baris dan yang kedua adalah kolom."
      ]
    },
    {
      "cell_type": "code",
      "metadata": {
        "id": "8HXvbEcMkOjy"
      },
      "source": [
        "df.iloc[:,2]"
      ],
      "execution_count": null,
      "outputs": []
    },
    {
      "cell_type": "markdown",
      "metadata": {
        "id": "klUlSe3skOj5"
      },
      "source": [
        "#### Gunakan `iloc` untuk memilih baris terakhir"
      ]
    },
    {
      "cell_type": "code",
      "metadata": {
        "id": "Dpw15V8lkOj6"
      },
      "source": [
        "df.iloc[-1,:]"
      ],
      "execution_count": null,
      "outputs": []
    },
    {
      "cell_type": "markdown",
      "metadata": {
        "id": "9-drG9U3TwNB"
      },
      "source": [
        "### Konsep Dasar Pandas: Latihan"
      ]
    },
    {
      "cell_type": "code",
      "metadata": {
        "id": "cHHUFbLFTwM9"
      },
      "source": [
        "sales = [100,130,119,92,35]\n",
        "customer_account = ['B100','J101','X102','P103','R104']\n",
        "city = ['BOS','LA','NYC','SF','CHI']"
      ],
      "execution_count": null,
      "outputs": []
    },
    {
      "cell_type": "markdown",
      "metadata": {
        "id": "0VhkInt6TwM8"
      },
      "source": [
        "#### Buat _DataFrame_ dengan data di atas"
      ]
    },
    {
      "cell_type": "code",
      "metadata": {
        "id": "nzUWpWS-TwM6"
      },
      "source": [
        "df = pd.DataFrame({\n",
        "    'Sales': sales,\n",
        "    'Customer Account': customer_account,\n",
        "    'City': city\n",
        "})"
      ],
      "execution_count": 16,
      "outputs": []
    },
    {
      "cell_type": "markdown",
      "metadata": {
        "id": "tmYB4B32TwMy"
      },
      "source": [
        "#### Cetak nama dari kolom pertama"
      ]
    },
    {
      "cell_type": "code",
      "metadata": {
        "id": "5Rogy8ehTwMn",
        "colab": {
          "base_uri": "https://localhost:8080/"
        },
        "outputId": "06b1e3a8-60e9-4036-8d51-ca93cdd5a1f1"
      },
      "source": [
        "print(df.columns[0])"
      ],
      "execution_count": 17,
      "outputs": [
        {
          "output_type": "stream",
          "name": "stdout",
          "text": [
            "Sales\n"
          ]
        }
      ]
    },
    {
      "cell_type": "markdown",
      "metadata": {
        "id": "_SA2hdsLTwMl"
      },
      "source": [
        "#### Urutkan _DataFrame_ berdasarkan `city` secara _ascending_"
      ]
    },
    {
      "cell_type": "code",
      "metadata": {
        "id": "qpE0t45cTwMY",
        "colab": {
          "base_uri": "https://localhost:8080/"
        },
        "outputId": "ec108e81-e7c2-46aa-b360-1b9700d2abeb"
      },
      "source": [
        "df_sorted = df.sort_values(by='City', ascending=True)\n",
        "print(df_sorted)"
      ],
      "execution_count": 18,
      "outputs": [
        {
          "output_type": "stream",
          "name": "stdout",
          "text": [
            "   Sales Customer Account City\n",
            "0    100             B100  BOS\n",
            "4     35             R104  CHI\n",
            "1    130             J101   LA\n",
            "2    119             X102  NYC\n",
            "3     92             P103   SF\n"
          ]
        }
      ]
    },
    {
      "cell_type": "markdown",
      "metadata": {
        "id": "tY7HNEUDTwMW"
      },
      "source": [
        "#### Cetak data konsumen terakhir di _DataFrame_"
      ]
    },
    {
      "cell_type": "code",
      "metadata": {
        "id": "GWlpTsEYTwL8",
        "colab": {
          "base_uri": "https://localhost:8080/"
        },
        "outputId": "a2806087-edad-4a0c-a6b5-ac57bab99081"
      },
      "source": [
        "last_customer = df.iloc[-1]\n",
        "print(last_customer)"
      ],
      "execution_count": 19,
      "outputs": [
        {
          "output_type": "stream",
          "name": "stdout",
          "text": [
            "Sales                 35\n",
            "Customer Account    R104\n",
            "City                 CHI\n",
            "Name: 4, dtype: object\n"
          ]
        }
      ]
    },
    {
      "cell_type": "markdown",
      "metadata": {
        "id": "EPMQ69METwLz"
      },
      "source": [
        "#### Reorder the columns with customer in the first column"
      ]
    },
    {
      "cell_type": "code",
      "metadata": {
        "id": "ElacSbWiTwLk",
        "colab": {
          "base_uri": "https://localhost:8080/"
        },
        "outputId": "69445fe6-7d8c-4559-e802-35814831263a"
      },
      "source": [
        "df = df[['Customer Account', 'Sales', 'City']]\n",
        "print(df)"
      ],
      "execution_count": 20,
      "outputs": [
        {
          "output_type": "stream",
          "name": "stdout",
          "text": [
            "  Customer Account  Sales City\n",
            "0             B100    100  BOS\n",
            "1             J101    130   LA\n",
            "2             X102    119  NYC\n",
            "3             P103     92   SF\n",
            "4             R104     35  CHI\n"
          ]
        }
      ]
    },
    {
      "cell_type": "markdown",
      "metadata": {
        "id": "Uf9o8d3hFYVu"
      },
      "source": [
        "# Fungsi Standard Pandas\n",
        "\n",
        "Mengenal fungsi yang disediakan Pandas, mari kita coba contoh data yang lebih banyak dari file CSV"
      ]
    },
    {
      "cell_type": "markdown",
      "source": [
        "#### Load data dari file CSV\n",
        "\n",
        "File CSV adalah format file data sederhana. Isinya hanyalah data yang masing-masing _record_ nya terdiri dari 1 baris dan masing-masing _field_/_column_ nya dipisah tanda koma.\n",
        "\n",
        "_Google Colab_ menyediakan beberapa contoh data yang diletakan pada folder _sample_data_."
      ],
      "metadata": {
        "id": "6CAZesLf7Xux"
      }
    },
    {
      "cell_type": "code",
      "source": [
        "import pandas as pd\n",
        "\n",
        "df = pd.read_csv(\"sample_data/california_housing_test.csv\")\n",
        "df"
      ],
      "metadata": {
        "id": "BwOIg6y-7SyC"
      },
      "execution_count": null,
      "outputs": []
    },
    {
      "cell_type": "markdown",
      "source": [
        "Beberapa website di internet menyediakan data _real_ yang bisa di download. Berikut beberapa situs yang menyediakan data CSV:\n",
        "- https://data.jakarta.go.id/dataset/\n",
        "- https://data.world/datasets/census\n"
      ],
      "metadata": {
        "id": "CS5K2PGqBp9E"
      }
    },
    {
      "cell_type": "markdown",
      "source": [
        "Untuk bahan pembelajaran, kita akan download data [Data Jumlah Kepala Keluarga Menurut Pekerjaan Jenis Kelamin dan Wilayah](https://data.jakarta.go.id/dataset/b0eb219e26e8e1fe7c521d8b78f9c89f/resource/e9a6fef809483b5cdd6ff545ee694494/download/Data-Jumlah-Kepala-Keluarga-Menurut-Pekerjaan-Jenis-Kelamin-dan-Wilayah-Tahun-2020.csv).\n",
        "Execute script pada 2 cell berikut:\n",
        "\n"
      ],
      "metadata": {
        "id": "yWXsGrhAESiG"
      }
    },
    {
      "cell_type": "code",
      "source": [
        "# download data contoh\n",
        "!wget https://raw.githubusercontent.com/ruang-belajar/python/refs/heads/master/notebook/data/2020-jakarta-kk.csv -O 2020-jakarta-kk.csv\n",
        "\n"
      ],
      "metadata": {
        "id": "CUar_4lFDsJj"
      },
      "execution_count": null,
      "outputs": []
    },
    {
      "cell_type": "code",
      "source": [
        "# load csv ke DataFrame\n",
        "df = pd.read_csv(\"2020-jakarta-kk.csv\")\n",
        "df"
      ],
      "metadata": {
        "id": "q3LsQLXOEPwT"
      },
      "execution_count": null,
      "outputs": []
    },
    {
      "cell_type": "markdown",
      "metadata": {
        "id": "Wc348x0wkOkj"
      },
      "source": [
        "#### Membaca beberapa baris data pertama\n",
        "\n",
        "Fungsi `head` secara default mencetak 5 baris pertama dari DataFrame Anda.\n",
        "\n",
        "Jika Anda memberikan parameter `n`, ia akan mencetak baris `n` pertama.\n",
        "\n",
        "Dokumen ada [di sini](https://pandas.pydata.org/pandas-docs/stable/generated/pandas.DataFrame.head.html)"
      ]
    },
    {
      "cell_type": "code",
      "metadata": {
        "id": "KX2i7qypkOkk"
      },
      "source": [
        "df.head()"
      ],
      "execution_count": null,
      "outputs": []
    },
    {
      "cell_type": "markdown",
      "metadata": {
        "id": "L3A2aM_OkOkn"
      },
      "source": [
        "#### Membaca 10 baris terakhir\n",
        "\n"
      ]
    },
    {
      "cell_type": "code",
      "metadata": {
        "id": "evveblFBkOko"
      },
      "source": [
        "df.tail(10)"
      ],
      "execution_count": null,
      "outputs": []
    },
    {
      "cell_type": "markdown",
      "metadata": {
        "id": "R1_Rf_HRkOkp"
      },
      "source": [
        "#### Membaca tipe data di DataFrame\n",
        "\n",
        "Fungsi ini akan memberi tahu Anda jenis kolom.\n",
        "\n",
        "Jenis secara otomatis disimpulkan oleh panda dan biasanya Anda tidak perlu mengkhawatirkannya.\n",
        "\n",
        "[dokumen](https://pandas.pydata.org/pandas-docs/stable/generated/pandas.DataFrame.info.html)"
      ]
    },
    {
      "cell_type": "code",
      "metadata": {
        "id": "AbWxmxxfkOkr"
      },
      "source": [
        "df.info()"
      ],
      "execution_count": null,
      "outputs": []
    },
    {
      "cell_type": "markdown",
      "metadata": {
        "id": "Lxk64a-PkOkv"
      },
      "source": [
        "#### Statistik ringkasan dari DataFrame\n",
        "\n",
        "Untuk mempelajari lebih lanjut tentang mendeskripsikan, kunjungi [tautan ini](https://pandas.pydata.org/pandas-docs/stable/generated/pandas.DataFrame.describe.html)"
      ]
    },
    {
      "cell_type": "code",
      "metadata": {
        "id": "I6-BVDGfkOkw"
      },
      "source": [
        "df.describe()"
      ],
      "execution_count": null,
      "outputs": []
    },
    {
      "cell_type": "code",
      "source": [
        "df.describe().T"
      ],
      "metadata": {
        "id": "_cBWsV7RFQi4"
      },
      "execution_count": null,
      "outputs": []
    },
    {
      "cell_type": "markdown",
      "metadata": {
        "id": "JozHv-DpQpWs"
      },
      "source": [
        "### Filter DataFrame\n",
        "\n",
        "Anda dapat memfilter data berdasarkan kolom dan nilai dalam kerangka data\n",
        "\n",
        "Berikut adalah contoh penggunaan filter pada DataFrame"
      ]
    },
    {
      "cell_type": "code",
      "metadata": {
        "id": "VYV0OiujkOk7"
      },
      "source": [
        "# mengambil data yang jenis kelamin LAKI-LAKI dan menyimpannya sebagai object df1\n",
        "df1 = df[df.jenis_kelamin=='LAKI-LAKI']"
      ],
      "execution_count": null,
      "outputs": []
    },
    {
      "cell_type": "code",
      "source": [
        "# dari data yang jenis kelamin LAKI-LAKI, filter data pekerjaan yang Pensiunan\n",
        "df2 = df1[df1.pekerjaan=='Pensiunan']\n",
        "df2"
      ],
      "metadata": {
        "id": "dAR9ds6hIisY"
      },
      "execution_count": null,
      "outputs": []
    },
    {
      "cell_type": "code",
      "source": [
        "# prompt: Filter DataFrame\n",
        "\n",
        "import pandas as pd\n",
        "\n",
        "# download data contoh\n",
        "!wget https://raw.githubusercontent.com/ruang-belajar/python/refs/heads/master/notebook/data/2020-jakarta-kk.csv -O 2020-jakarta-kk.csv\n",
        "\n",
        "# load csv ke DataFrame\n",
        "df = pd.read_csv(\"2020-jakarta-kk.csv\")\n",
        "\n",
        "# mengambil data yang jenis kelamin LAKI-LAKI dan menyimpannya sebagai object df1\n",
        "df1 = df[df.jenis_kelamin=='LAKI-LAKI']\n",
        "\n",
        "# dari data yang jenis kelamin LAKI-LAKI, filter data pekerjaan yang Pensiunan\n",
        "df2 = df1[df1.pekerjaan=='Pensiunan']\n",
        "df2"
      ],
      "metadata": {
        "id": "yJx0BCYLQDIG",
        "colab": {
          "base_uri": "https://localhost:8080/",
          "height": 615
        },
        "outputId": "9f2aa44b-3fe4-45a3-e1e6-0a956136e1eb"
      },
      "execution_count": 25,
      "outputs": [
        {
          "output_type": "stream",
          "name": "stdout",
          "text": [
            "--2025-01-10 15:11:20--  https://raw.githubusercontent.com/ruang-belajar/python/refs/heads/master/notebook/data/2020-jakarta-kk.csv\n",
            "Resolving raw.githubusercontent.com (raw.githubusercontent.com)... 185.199.108.133, 185.199.109.133, 185.199.110.133, ...\n",
            "Connecting to raw.githubusercontent.com (raw.githubusercontent.com)|185.199.108.133|:443... connected.\n",
            "HTTP request sent, awaiting response... 200 OK\n",
            "Length: 1713771 (1.6M) [text/plain]\n",
            "Saving to: ‘2020-jakarta-kk.csv’\n",
            "\n",
            "2020-jakarta-kk.csv 100%[===================>]   1.63M  --.-KB/s    in 0.07s   \n",
            "\n",
            "2025-01-10 15:11:20 (24.6 MB/s) - ‘2020-jakarta-kk.csv’ saved [1713771/1713771]\n",
            "\n"
          ]
        },
        {
          "output_type": "execute_result",
          "data": {
            "text/plain": [
              "       tahun     provinsi         kabupaten_kota                 kecamatan  \\\n",
              "3       2020  DKI JAKARTA  ADM. KEPULAUAN SERIBU    KEPULAUAN SERIBU UTARA   \n",
              "30      2020  DKI JAKARTA  ADM. KEPULAUAN SERIBU    KEPULAUAN SERIBU UTARA   \n",
              "54      2020  DKI JAKARTA  ADM. KEPULAUAN SERIBU    KEPULAUAN SERIBU UTARA   \n",
              "72      2020  DKI JAKARTA  ADM. KEPULAUAN SERIBU  KEPULAUAN SERIBU SELATAN   \n",
              "89      2020  DKI JAKARTA  ADM. KEPULAUAN SERIBU  KEPULAUAN SERIBU SELATAN   \n",
              "...      ...          ...                    ...                       ...   \n",
              "10561   2020  DKI JAKARTA          JAKARTA TIMUR                  CIPAYUNG   \n",
              "10601   2020  DKI JAKARTA          JAKARTA TIMUR                  CIPAYUNG   \n",
              "10646   2020  DKI JAKARTA          JAKARTA TIMUR                  CIPAYUNG   \n",
              "10688   2020  DKI JAKARTA          JAKARTA TIMUR                  CIPAYUNG   \n",
              "10733   2020  DKI JAKARTA          JAKARTA TIMUR                  CIPAYUNG   \n",
              "\n",
              "               kelurahan jenis_kelamin  pekerjaan  jumlah  \n",
              "3         PULAU PANGGANG     LAKI-LAKI  Pensiunan      19  \n",
              "30          PULAU KELAPA     LAKI-LAKI  Pensiunan       7  \n",
              "54         PULAU HARAPAN     LAKI-LAKI  Pensiunan       2  \n",
              "72     PULAU UNTUNG JAWA     LAKI-LAKI  Pensiunan      11  \n",
              "89          PULAU TIDUNG     LAKI-LAKI  Pensiunan      14  \n",
              "...                  ...           ...        ...     ...  \n",
              "10561             MUNJUL     LAKI-LAKI  Pensiunan     280  \n",
              "10601               SETU     LAKI-LAKI  Pensiunan     176  \n",
              "10646         BAMBU APUS     LAKI-LAKI  Pensiunan     226  \n",
              "10688       LUBANG BUAYA     LAKI-LAKI  Pensiunan     588  \n",
              "10733              CEGER     LAKI-LAKI  Pensiunan     213  \n",
              "\n",
              "[267 rows x 8 columns]"
            ],
            "text/html": [
              "\n",
              "  <div id=\"df-27ec0492-0295-40a8-b02c-2582028efde4\" class=\"colab-df-container\">\n",
              "    <div>\n",
              "<style scoped>\n",
              "    .dataframe tbody tr th:only-of-type {\n",
              "        vertical-align: middle;\n",
              "    }\n",
              "\n",
              "    .dataframe tbody tr th {\n",
              "        vertical-align: top;\n",
              "    }\n",
              "\n",
              "    .dataframe thead th {\n",
              "        text-align: right;\n",
              "    }\n",
              "</style>\n",
              "<table border=\"1\" class=\"dataframe\">\n",
              "  <thead>\n",
              "    <tr style=\"text-align: right;\">\n",
              "      <th></th>\n",
              "      <th>tahun</th>\n",
              "      <th>provinsi</th>\n",
              "      <th>kabupaten_kota</th>\n",
              "      <th>kecamatan</th>\n",
              "      <th>kelurahan</th>\n",
              "      <th>jenis_kelamin</th>\n",
              "      <th>pekerjaan</th>\n",
              "      <th>jumlah</th>\n",
              "    </tr>\n",
              "  </thead>\n",
              "  <tbody>\n",
              "    <tr>\n",
              "      <th>3</th>\n",
              "      <td>2020</td>\n",
              "      <td>DKI JAKARTA</td>\n",
              "      <td>ADM. KEPULAUAN SERIBU</td>\n",
              "      <td>KEPULAUAN SERIBU UTARA</td>\n",
              "      <td>PULAU PANGGANG</td>\n",
              "      <td>LAKI-LAKI</td>\n",
              "      <td>Pensiunan</td>\n",
              "      <td>19</td>\n",
              "    </tr>\n",
              "    <tr>\n",
              "      <th>30</th>\n",
              "      <td>2020</td>\n",
              "      <td>DKI JAKARTA</td>\n",
              "      <td>ADM. KEPULAUAN SERIBU</td>\n",
              "      <td>KEPULAUAN SERIBU UTARA</td>\n",
              "      <td>PULAU KELAPA</td>\n",
              "      <td>LAKI-LAKI</td>\n",
              "      <td>Pensiunan</td>\n",
              "      <td>7</td>\n",
              "    </tr>\n",
              "    <tr>\n",
              "      <th>54</th>\n",
              "      <td>2020</td>\n",
              "      <td>DKI JAKARTA</td>\n",
              "      <td>ADM. KEPULAUAN SERIBU</td>\n",
              "      <td>KEPULAUAN SERIBU UTARA</td>\n",
              "      <td>PULAU HARAPAN</td>\n",
              "      <td>LAKI-LAKI</td>\n",
              "      <td>Pensiunan</td>\n",
              "      <td>2</td>\n",
              "    </tr>\n",
              "    <tr>\n",
              "      <th>72</th>\n",
              "      <td>2020</td>\n",
              "      <td>DKI JAKARTA</td>\n",
              "      <td>ADM. KEPULAUAN SERIBU</td>\n",
              "      <td>KEPULAUAN SERIBU SELATAN</td>\n",
              "      <td>PULAU UNTUNG JAWA</td>\n",
              "      <td>LAKI-LAKI</td>\n",
              "      <td>Pensiunan</td>\n",
              "      <td>11</td>\n",
              "    </tr>\n",
              "    <tr>\n",
              "      <th>89</th>\n",
              "      <td>2020</td>\n",
              "      <td>DKI JAKARTA</td>\n",
              "      <td>ADM. KEPULAUAN SERIBU</td>\n",
              "      <td>KEPULAUAN SERIBU SELATAN</td>\n",
              "      <td>PULAU TIDUNG</td>\n",
              "      <td>LAKI-LAKI</td>\n",
              "      <td>Pensiunan</td>\n",
              "      <td>14</td>\n",
              "    </tr>\n",
              "    <tr>\n",
              "      <th>...</th>\n",
              "      <td>...</td>\n",
              "      <td>...</td>\n",
              "      <td>...</td>\n",
              "      <td>...</td>\n",
              "      <td>...</td>\n",
              "      <td>...</td>\n",
              "      <td>...</td>\n",
              "      <td>...</td>\n",
              "    </tr>\n",
              "    <tr>\n",
              "      <th>10561</th>\n",
              "      <td>2020</td>\n",
              "      <td>DKI JAKARTA</td>\n",
              "      <td>JAKARTA TIMUR</td>\n",
              "      <td>CIPAYUNG</td>\n",
              "      <td>MUNJUL</td>\n",
              "      <td>LAKI-LAKI</td>\n",
              "      <td>Pensiunan</td>\n",
              "      <td>280</td>\n",
              "    </tr>\n",
              "    <tr>\n",
              "      <th>10601</th>\n",
              "      <td>2020</td>\n",
              "      <td>DKI JAKARTA</td>\n",
              "      <td>JAKARTA TIMUR</td>\n",
              "      <td>CIPAYUNG</td>\n",
              "      <td>SETU</td>\n",
              "      <td>LAKI-LAKI</td>\n",
              "      <td>Pensiunan</td>\n",
              "      <td>176</td>\n",
              "    </tr>\n",
              "    <tr>\n",
              "      <th>10646</th>\n",
              "      <td>2020</td>\n",
              "      <td>DKI JAKARTA</td>\n",
              "      <td>JAKARTA TIMUR</td>\n",
              "      <td>CIPAYUNG</td>\n",
              "      <td>BAMBU APUS</td>\n",
              "      <td>LAKI-LAKI</td>\n",
              "      <td>Pensiunan</td>\n",
              "      <td>226</td>\n",
              "    </tr>\n",
              "    <tr>\n",
              "      <th>10688</th>\n",
              "      <td>2020</td>\n",
              "      <td>DKI JAKARTA</td>\n",
              "      <td>JAKARTA TIMUR</td>\n",
              "      <td>CIPAYUNG</td>\n",
              "      <td>LUBANG BUAYA</td>\n",
              "      <td>LAKI-LAKI</td>\n",
              "      <td>Pensiunan</td>\n",
              "      <td>588</td>\n",
              "    </tr>\n",
              "    <tr>\n",
              "      <th>10733</th>\n",
              "      <td>2020</td>\n",
              "      <td>DKI JAKARTA</td>\n",
              "      <td>JAKARTA TIMUR</td>\n",
              "      <td>CIPAYUNG</td>\n",
              "      <td>CEGER</td>\n",
              "      <td>LAKI-LAKI</td>\n",
              "      <td>Pensiunan</td>\n",
              "      <td>213</td>\n",
              "    </tr>\n",
              "  </tbody>\n",
              "</table>\n",
              "<p>267 rows × 8 columns</p>\n",
              "</div>\n",
              "    <div class=\"colab-df-buttons\">\n",
              "\n",
              "  <div class=\"colab-df-container\">\n",
              "    <button class=\"colab-df-convert\" onclick=\"convertToInteractive('df-27ec0492-0295-40a8-b02c-2582028efde4')\"\n",
              "            title=\"Convert this dataframe to an interactive table.\"\n",
              "            style=\"display:none;\">\n",
              "\n",
              "  <svg xmlns=\"http://www.w3.org/2000/svg\" height=\"24px\" viewBox=\"0 -960 960 960\">\n",
              "    <path d=\"M120-120v-720h720v720H120Zm60-500h600v-160H180v160Zm220 220h160v-160H400v160Zm0 220h160v-160H400v160ZM180-400h160v-160H180v160Zm440 0h160v-160H620v160ZM180-180h160v-160H180v160Zm440 0h160v-160H620v160Z\"/>\n",
              "  </svg>\n",
              "    </button>\n",
              "\n",
              "  <style>\n",
              "    .colab-df-container {\n",
              "      display:flex;\n",
              "      gap: 12px;\n",
              "    }\n",
              "\n",
              "    .colab-df-convert {\n",
              "      background-color: #E8F0FE;\n",
              "      border: none;\n",
              "      border-radius: 50%;\n",
              "      cursor: pointer;\n",
              "      display: none;\n",
              "      fill: #1967D2;\n",
              "      height: 32px;\n",
              "      padding: 0 0 0 0;\n",
              "      width: 32px;\n",
              "    }\n",
              "\n",
              "    .colab-df-convert:hover {\n",
              "      background-color: #E2EBFA;\n",
              "      box-shadow: 0px 1px 2px rgba(60, 64, 67, 0.3), 0px 1px 3px 1px rgba(60, 64, 67, 0.15);\n",
              "      fill: #174EA6;\n",
              "    }\n",
              "\n",
              "    .colab-df-buttons div {\n",
              "      margin-bottom: 4px;\n",
              "    }\n",
              "\n",
              "    [theme=dark] .colab-df-convert {\n",
              "      background-color: #3B4455;\n",
              "      fill: #D2E3FC;\n",
              "    }\n",
              "\n",
              "    [theme=dark] .colab-df-convert:hover {\n",
              "      background-color: #434B5C;\n",
              "      box-shadow: 0px 1px 3px 1px rgba(0, 0, 0, 0.15);\n",
              "      filter: drop-shadow(0px 1px 2px rgba(0, 0, 0, 0.3));\n",
              "      fill: #FFFFFF;\n",
              "    }\n",
              "  </style>\n",
              "\n",
              "    <script>\n",
              "      const buttonEl =\n",
              "        document.querySelector('#df-27ec0492-0295-40a8-b02c-2582028efde4 button.colab-df-convert');\n",
              "      buttonEl.style.display =\n",
              "        google.colab.kernel.accessAllowed ? 'block' : 'none';\n",
              "\n",
              "      async function convertToInteractive(key) {\n",
              "        const element = document.querySelector('#df-27ec0492-0295-40a8-b02c-2582028efde4');\n",
              "        const dataTable =\n",
              "          await google.colab.kernel.invokeFunction('convertToInteractive',\n",
              "                                                    [key], {});\n",
              "        if (!dataTable) return;\n",
              "\n",
              "        const docLinkHtml = 'Like what you see? Visit the ' +\n",
              "          '<a target=\"_blank\" href=https://colab.research.google.com/notebooks/data_table.ipynb>data table notebook</a>'\n",
              "          + ' to learn more about interactive tables.';\n",
              "        element.innerHTML = '';\n",
              "        dataTable['output_type'] = 'display_data';\n",
              "        await google.colab.output.renderOutput(dataTable, element);\n",
              "        const docLink = document.createElement('div');\n",
              "        docLink.innerHTML = docLinkHtml;\n",
              "        element.appendChild(docLink);\n",
              "      }\n",
              "    </script>\n",
              "  </div>\n",
              "\n",
              "\n",
              "<div id=\"df-139324e0-af52-4ad9-b249-aec2645b1a15\">\n",
              "  <button class=\"colab-df-quickchart\" onclick=\"quickchart('df-139324e0-af52-4ad9-b249-aec2645b1a15')\"\n",
              "            title=\"Suggest charts\"\n",
              "            style=\"display:none;\">\n",
              "\n",
              "<svg xmlns=\"http://www.w3.org/2000/svg\" height=\"24px\"viewBox=\"0 0 24 24\"\n",
              "     width=\"24px\">\n",
              "    <g>\n",
              "        <path d=\"M19 3H5c-1.1 0-2 .9-2 2v14c0 1.1.9 2 2 2h14c1.1 0 2-.9 2-2V5c0-1.1-.9-2-2-2zM9 17H7v-7h2v7zm4 0h-2V7h2v10zm4 0h-2v-4h2v4z\"/>\n",
              "    </g>\n",
              "</svg>\n",
              "  </button>\n",
              "\n",
              "<style>\n",
              "  .colab-df-quickchart {\n",
              "      --bg-color: #E8F0FE;\n",
              "      --fill-color: #1967D2;\n",
              "      --hover-bg-color: #E2EBFA;\n",
              "      --hover-fill-color: #174EA6;\n",
              "      --disabled-fill-color: #AAA;\n",
              "      --disabled-bg-color: #DDD;\n",
              "  }\n",
              "\n",
              "  [theme=dark] .colab-df-quickchart {\n",
              "      --bg-color: #3B4455;\n",
              "      --fill-color: #D2E3FC;\n",
              "      --hover-bg-color: #434B5C;\n",
              "      --hover-fill-color: #FFFFFF;\n",
              "      --disabled-bg-color: #3B4455;\n",
              "      --disabled-fill-color: #666;\n",
              "  }\n",
              "\n",
              "  .colab-df-quickchart {\n",
              "    background-color: var(--bg-color);\n",
              "    border: none;\n",
              "    border-radius: 50%;\n",
              "    cursor: pointer;\n",
              "    display: none;\n",
              "    fill: var(--fill-color);\n",
              "    height: 32px;\n",
              "    padding: 0;\n",
              "    width: 32px;\n",
              "  }\n",
              "\n",
              "  .colab-df-quickchart:hover {\n",
              "    background-color: var(--hover-bg-color);\n",
              "    box-shadow: 0 1px 2px rgba(60, 64, 67, 0.3), 0 1px 3px 1px rgba(60, 64, 67, 0.15);\n",
              "    fill: var(--button-hover-fill-color);\n",
              "  }\n",
              "\n",
              "  .colab-df-quickchart-complete:disabled,\n",
              "  .colab-df-quickchart-complete:disabled:hover {\n",
              "    background-color: var(--disabled-bg-color);\n",
              "    fill: var(--disabled-fill-color);\n",
              "    box-shadow: none;\n",
              "  }\n",
              "\n",
              "  .colab-df-spinner {\n",
              "    border: 2px solid var(--fill-color);\n",
              "    border-color: transparent;\n",
              "    border-bottom-color: var(--fill-color);\n",
              "    animation:\n",
              "      spin 1s steps(1) infinite;\n",
              "  }\n",
              "\n",
              "  @keyframes spin {\n",
              "    0% {\n",
              "      border-color: transparent;\n",
              "      border-bottom-color: var(--fill-color);\n",
              "      border-left-color: var(--fill-color);\n",
              "    }\n",
              "    20% {\n",
              "      border-color: transparent;\n",
              "      border-left-color: var(--fill-color);\n",
              "      border-top-color: var(--fill-color);\n",
              "    }\n",
              "    30% {\n",
              "      border-color: transparent;\n",
              "      border-left-color: var(--fill-color);\n",
              "      border-top-color: var(--fill-color);\n",
              "      border-right-color: var(--fill-color);\n",
              "    }\n",
              "    40% {\n",
              "      border-color: transparent;\n",
              "      border-right-color: var(--fill-color);\n",
              "      border-top-color: var(--fill-color);\n",
              "    }\n",
              "    60% {\n",
              "      border-color: transparent;\n",
              "      border-right-color: var(--fill-color);\n",
              "    }\n",
              "    80% {\n",
              "      border-color: transparent;\n",
              "      border-right-color: var(--fill-color);\n",
              "      border-bottom-color: var(--fill-color);\n",
              "    }\n",
              "    90% {\n",
              "      border-color: transparent;\n",
              "      border-bottom-color: var(--fill-color);\n",
              "    }\n",
              "  }\n",
              "</style>\n",
              "\n",
              "  <script>\n",
              "    async function quickchart(key) {\n",
              "      const quickchartButtonEl =\n",
              "        document.querySelector('#' + key + ' button');\n",
              "      quickchartButtonEl.disabled = true;  // To prevent multiple clicks.\n",
              "      quickchartButtonEl.classList.add('colab-df-spinner');\n",
              "      try {\n",
              "        const charts = await google.colab.kernel.invokeFunction(\n",
              "            'suggestCharts', [key], {});\n",
              "      } catch (error) {\n",
              "        console.error('Error during call to suggestCharts:', error);\n",
              "      }\n",
              "      quickchartButtonEl.classList.remove('colab-df-spinner');\n",
              "      quickchartButtonEl.classList.add('colab-df-quickchart-complete');\n",
              "    }\n",
              "    (() => {\n",
              "      let quickchartButtonEl =\n",
              "        document.querySelector('#df-139324e0-af52-4ad9-b249-aec2645b1a15 button');\n",
              "      quickchartButtonEl.style.display =\n",
              "        google.colab.kernel.accessAllowed ? 'block' : 'none';\n",
              "    })();\n",
              "  </script>\n",
              "</div>\n",
              "\n",
              "  <div id=\"id_6c2a8f96-b610-4972-88fd-b68e67b1f5e4\">\n",
              "    <style>\n",
              "      .colab-df-generate {\n",
              "        background-color: #E8F0FE;\n",
              "        border: none;\n",
              "        border-radius: 50%;\n",
              "        cursor: pointer;\n",
              "        display: none;\n",
              "        fill: #1967D2;\n",
              "        height: 32px;\n",
              "        padding: 0 0 0 0;\n",
              "        width: 32px;\n",
              "      }\n",
              "\n",
              "      .colab-df-generate:hover {\n",
              "        background-color: #E2EBFA;\n",
              "        box-shadow: 0px 1px 2px rgba(60, 64, 67, 0.3), 0px 1px 3px 1px rgba(60, 64, 67, 0.15);\n",
              "        fill: #174EA6;\n",
              "      }\n",
              "\n",
              "      [theme=dark] .colab-df-generate {\n",
              "        background-color: #3B4455;\n",
              "        fill: #D2E3FC;\n",
              "      }\n",
              "\n",
              "      [theme=dark] .colab-df-generate:hover {\n",
              "        background-color: #434B5C;\n",
              "        box-shadow: 0px 1px 3px 1px rgba(0, 0, 0, 0.15);\n",
              "        filter: drop-shadow(0px 1px 2px rgba(0, 0, 0, 0.3));\n",
              "        fill: #FFFFFF;\n",
              "      }\n",
              "    </style>\n",
              "    <button class=\"colab-df-generate\" onclick=\"generateWithVariable('df2')\"\n",
              "            title=\"Generate code using this dataframe.\"\n",
              "            style=\"display:none;\">\n",
              "\n",
              "  <svg xmlns=\"http://www.w3.org/2000/svg\" height=\"24px\"viewBox=\"0 0 24 24\"\n",
              "       width=\"24px\">\n",
              "    <path d=\"M7,19H8.4L18.45,9,17,7.55,7,17.6ZM5,21V16.75L18.45,3.32a2,2,0,0,1,2.83,0l1.4,1.43a1.91,1.91,0,0,1,.58,1.4,1.91,1.91,0,0,1-.58,1.4L9.25,21ZM18.45,9,17,7.55Zm-12,3A5.31,5.31,0,0,0,4.9,8.1,5.31,5.31,0,0,0,1,6.5,5.31,5.31,0,0,0,4.9,4.9,5.31,5.31,0,0,0,6.5,1,5.31,5.31,0,0,0,8.1,4.9,5.31,5.31,0,0,0,12,6.5,5.46,5.46,0,0,0,6.5,12Z\"/>\n",
              "  </svg>\n",
              "    </button>\n",
              "    <script>\n",
              "      (() => {\n",
              "      const buttonEl =\n",
              "        document.querySelector('#id_6c2a8f96-b610-4972-88fd-b68e67b1f5e4 button.colab-df-generate');\n",
              "      buttonEl.style.display =\n",
              "        google.colab.kernel.accessAllowed ? 'block' : 'none';\n",
              "\n",
              "      buttonEl.onclick = () => {\n",
              "        google.colab.notebook.generateWithVariable('df2');\n",
              "      }\n",
              "      })();\n",
              "    </script>\n",
              "  </div>\n",
              "\n",
              "    </div>\n",
              "  </div>\n"
            ],
            "application/vnd.google.colaboratory.intrinsic+json": {
              "type": "dataframe",
              "variable_name": "df2",
              "summary": "{\n  \"name\": \"df2\",\n  \"rows\": 267,\n  \"fields\": [\n    {\n      \"column\": \"tahun\",\n      \"properties\": {\n        \"dtype\": \"number\",\n        \"std\": 0,\n        \"min\": 2020,\n        \"max\": 2020,\n        \"num_unique_values\": 1,\n        \"samples\": [\n          2020\n        ],\n        \"semantic_type\": \"\",\n        \"description\": \"\"\n      }\n    },\n    {\n      \"column\": \"provinsi\",\n      \"properties\": {\n        \"dtype\": \"category\",\n        \"num_unique_values\": 1,\n        \"samples\": [\n          \"DKI JAKARTA\"\n        ],\n        \"semantic_type\": \"\",\n        \"description\": \"\"\n      }\n    },\n    {\n      \"column\": \"kabupaten_kota\",\n      \"properties\": {\n        \"dtype\": \"category\",\n        \"num_unique_values\": 6,\n        \"samples\": [\n          \"ADM. KEPULAUAN SERIBU\"\n        ],\n        \"semantic_type\": \"\",\n        \"description\": \"\"\n      }\n    },\n    {\n      \"column\": \"kecamatan\",\n      \"properties\": {\n        \"dtype\": \"category\",\n        \"num_unique_values\": 44,\n        \"samples\": [\n          \"KRAMATJATI\"\n        ],\n        \"semantic_type\": \"\",\n        \"description\": \"\"\n      }\n    },\n    {\n      \"column\": \"kelurahan\",\n      \"properties\": {\n        \"dtype\": \"string\",\n        \"num_unique_values\": 267,\n        \"samples\": [\n          \"KEDAUNG KALI ANGKE\"\n        ],\n        \"semantic_type\": \"\",\n        \"description\": \"\"\n      }\n    },\n    {\n      \"column\": \"jenis_kelamin\",\n      \"properties\": {\n        \"dtype\": \"category\",\n        \"num_unique_values\": 1,\n        \"samples\": [\n          \"LAKI-LAKI\"\n        ],\n        \"semantic_type\": \"\",\n        \"description\": \"\"\n      }\n    },\n    {\n      \"column\": \"pekerjaan\",\n      \"properties\": {\n        \"dtype\": \"category\",\n        \"num_unique_values\": 1,\n        \"samples\": [\n          \"Pensiunan\"\n        ],\n        \"semantic_type\": \"\",\n        \"description\": \"\"\n      }\n    },\n    {\n      \"column\": \"jumlah\",\n      \"properties\": {\n        \"dtype\": \"number\",\n        \"std\": 208,\n        \"min\": 1,\n        \"max\": 1311,\n        \"num_unique_values\": 210,\n        \"samples\": [\n          437\n        ],\n        \"semantic_type\": \"\",\n        \"description\": \"\"\n      }\n    }\n  ]\n}"
            }
          },
          "metadata": {},
          "execution_count": 25
        }
      ]
    },
    {
      "cell_type": "markdown",
      "source": [
        "#### Combine (&) dan Join (|)\n",
        "\n",
        "Anda juga bisa menggabungkan 2 kondisi dalam 1 query"
      ],
      "metadata": {
        "id": "7vwuKkCdQCtO"
      }
    },
    {
      "cell_type": "code",
      "source": [
        "# query data yang adalah LAKI-LAKI DAN Pensiunan\n",
        "df3 = df[(df.jenis_kelamin=='LAKI-LAKI')&(df.pekerjaan=='Pensiunan')]\n",
        "df3"
      ],
      "metadata": {
        "id": "Ljubnj-qQgrc"
      },
      "execution_count": null,
      "outputs": []
    },
    {
      "cell_type": "code",
      "source": [
        "# query data yang adalah LAKI-LAKI ATAU Pegawai Negeri Sipil\n",
        "df3 = df[(df.pekerjaan=='Pensiunan')|(df.pekerjaan=='Pegawai Negeri Sipil')]\n",
        "df3"
      ],
      "metadata": {
        "id": "jXNKDc1CRHZR"
      },
      "execution_count": null,
      "outputs": []
    },
    {
      "cell_type": "markdown",
      "metadata": {
        "id": "1_jDkPD5Q3_l"
      },
      "source": [
        "### Menambahkan fungsi pada filter\n",
        "\n",
        "Kita bisa menambahkan fungsi pada hasil filter. Berikut beberapa fungsi dasar yang kita bisa gunakan."
      ]
    },
    {
      "cell_type": "markdown",
      "source": [
        "#### fungsi `sum()`\n",
        "\n",
        "Fungsi `sum()` digunakan untuk menghitung total dari penjumlahan angka pada kolom terpilih"
      ],
      "metadata": {
        "id": "ufSOc_J-ND1f"
      }
    },
    {
      "cell_type": "code",
      "source": [
        "df.jumlah[df.jenis_kelamin=='LAKI-LAKI'].sum()"
      ],
      "metadata": {
        "id": "DMaRFXqqMOWP"
      },
      "execution_count": null,
      "outputs": []
    },
    {
      "cell_type": "code",
      "source": [
        "df1.jumlah.sum()"
      ],
      "metadata": {
        "id": "sAHub2H4NhQ0"
      },
      "execution_count": null,
      "outputs": []
    },
    {
      "cell_type": "markdown",
      "source": [
        "#### fungsi `mean()`\n",
        "\n",
        "Fungsi `mean()` digunakan untuk menghitung nilai rata-rata dari kolom terpilih"
      ],
      "metadata": {
        "id": "dl5i7jOzNT0F"
      }
    },
    {
      "cell_type": "code",
      "source": [
        "df.jumlah[df.jenis_kelamin=='LAKI-LAKI'].mean()"
      ],
      "metadata": {
        "id": "8utHvOBLNSFO"
      },
      "execution_count": null,
      "outputs": []
    },
    {
      "cell_type": "code",
      "source": [
        "df2.jumlah.mean()"
      ],
      "metadata": {
        "id": "CB0ObAnCNqmB"
      },
      "execution_count": null,
      "outputs": []
    },
    {
      "cell_type": "markdown",
      "source": [
        "#### fungsi `count()`\n",
        "\n",
        "Fungsi `count()` digunakan untuk menghitung jumlah data. Untuk perhitungan sederhana, bisa memilih sembarang kolom untuk dikenakan fungsi `count()`"
      ],
      "metadata": {
        "id": "1mZSKaWeOH2D"
      }
    },
    {
      "cell_type": "code",
      "metadata": {
        "id": "-XUzMAjlQzze"
      },
      "source": [
        "df.jumlah.count()"
      ],
      "execution_count": null,
      "outputs": []
    },
    {
      "cell_type": "code",
      "source": [
        "df.pekerjaan.count()"
      ],
      "metadata": {
        "id": "uc7E580_OkIZ"
      },
      "execution_count": null,
      "outputs": []
    },
    {
      "cell_type": "code",
      "source": [
        "df.shape[0]"
      ],
      "metadata": {
        "id": "3han_UhROrT3"
      },
      "execution_count": null,
      "outputs": []
    },
    {
      "cell_type": "markdown",
      "source": [
        "Fungsi `shape[0]` dan `count()` memiliki kegunaan yang sama. Anda bisa menggunakannya sesuai kondisi."
      ],
      "metadata": {
        "id": "EOdgaGa6OweQ"
      }
    },
    {
      "cell_type": "markdown",
      "metadata": {
        "id": "Qr5kDLXikOlN"
      },
      "source": [
        "### Pengelompokan data dengan `groupby`\n",
        "\n",
        "Metode `groupby` adalah salah satu fungsi terpenting yang akan Anda gunakan dalam pekerjaan sehari-hari.\n",
        "\n",
        "Parameter input utamanya adalah string yang menunjukkan nama kolom atau daftar string yang menunjukkan daftar nama kolom.\n",
        "\n",
        "Outputnya adalah objek GroupBy yang sangat mirip dengan _DataFrame_.\n",
        "\n",
        "Pengoperasian groupby sama dengan SQL GROUPBY atau _Pivot Table_ pada _MS Excel_\n",
        "\n",
        "Untuk info selengkapnya, lihat [dokumen](https://pandas.pydata.org/pandas-docs/stable/generated/pandas.DataFrame.groupby.html)."
      ]
    },
    {
      "cell_type": "code",
      "metadata": {
        "id": "6HUfJ-WgkOlO"
      },
      "source": [
        "# contoh menghitung jumlah penduduk per masing-masing kecamatan\n",
        "df.groupby('kecamatan').jumlah.sum()"
      ],
      "execution_count": null,
      "outputs": []
    },
    {
      "cell_type": "markdown",
      "source": [
        "Anda juga bisa menggunakan 2 kriteria _groupby_. Jika Anda menggunakan lebih dari satu kriteria, daftar kriteria ditulis dalam bentuk _list_."
      ],
      "metadata": {
        "id": "pgEyKVJ_Uib6"
      }
    },
    {
      "cell_type": "code",
      "source": [
        "df4 = df.groupby(['kecamatan','jenis_kelamin']).jumlah.sum()\n",
        "df4"
      ],
      "metadata": {
        "id": "H3w9RlEHUEx8"
      },
      "execution_count": null,
      "outputs": []
    },
    {
      "cell_type": "markdown",
      "metadata": {
        "id": "le2scA1okOlj"
      },
      "source": [
        "### Latihan"
      ]
    },
    {
      "cell_type": "markdown",
      "metadata": {
        "id": "721I5B1lkOlj"
      },
      "source": [
        "#### Berapa jumlah penduduk wanita?"
      ]
    },
    {
      "cell_type": "code",
      "metadata": {
        "id": "Z9xvt457kOlk",
        "colab": {
          "base_uri": "https://localhost:8080/"
        },
        "outputId": "fef5b39f-a73b-4453-c7d8-42d38fa41662"
      },
      "source": [
        "df_perempuan = df[df.jenis_kelamin == 'PEREMPUAN']\n",
        "jumlah_perempuan = df_perempuan.jumlah.sum()\n",
        "print(jumlah_perempuan)"
      ],
      "execution_count": 26,
      "outputs": [
        {
          "output_type": "stream",
          "name": "stdout",
          "text": [
            "747940\n"
          ]
        }
      ]
    },
    {
      "cell_type": "markdown",
      "metadata": {
        "id": "-x5IgI-fkOl2"
      },
      "source": [
        "#### Berapa jumlah penduduk LAKI-LAKI di kecamatan CIPAYUNG?"
      ]
    },
    {
      "cell_type": "code",
      "metadata": {
        "id": "pgNLpPTskOl2",
        "colab": {
          "base_uri": "https://localhost:8080/"
        },
        "outputId": "7e1a8e42-10ed-452f-c3ad-9c135342e37d"
      },
      "source": [
        "df_laki_laki_cipayung = df[(df['jenis_kelamin'] == 'LAKI-LAKI') & (df['kecamatan'] == 'CIPAYUNG')]\n",
        "jumlah_penduduk_laki_laki_cipayung = df_laki_laki_cipayung['jumlah'].sum()\n",
        "print(f\"Jumlah penduduk LAKI-LAKI di kecamatan CIPAYUNG: {jumlah_penduduk_laki_laki_cipayung}\")"
      ],
      "execution_count": 29,
      "outputs": [
        {
          "output_type": "stream",
          "name": "stdout",
          "text": [
            "Jumlah penduduk LAKI-LAKI di kecamatan CIPAYUNG: 73997\n"
          ]
        }
      ]
    },
    {
      "cell_type": "markdown",
      "source": [
        "#### Berapa jumlah penduduk PEREMPUAN yang adalah Pegawai Negeri Sipil?"
      ],
      "metadata": {
        "id": "4ZHSz7HbW84W"
      }
    },
    {
      "cell_type": "code",
      "source": [
        "df_perempuan_pns = df[(df['jenis_kelamin'] == 'PEREMPUAN') & (df['pekerjaan'] == 'Pegawai Negeri Sipil')]\n",
        "jumlah_penduduk_perempuan_pns = df_perempuan_pns['jumlah'].sum()\n",
        "print(f\"Jumlah penduduk PEREMPUAN yang adalah Pegawai Negeri Sipil: {jumlah_penduduk_perempuan_pns}\")"
      ],
      "metadata": {
        "id": "NnKMvP43XDmN",
        "colab": {
          "base_uri": "https://localhost:8080/"
        },
        "outputId": "1d225336-a77f-4afa-cee4-d10f03453d8f"
      },
      "execution_count": 32,
      "outputs": [
        {
          "output_type": "stream",
          "name": "stdout",
          "text": [
            "Jumlah penduduk PEREMPUAN yang adalah Pegawai Negeri Sipil: 9153\n"
          ]
        }
      ]
    },
    {
      "cell_type": "markdown",
      "source": [
        "#### Berapa jumlah penduduk PEREMPUAN yang adalah Pegawai Negeri Sipil dan tinggal di JAKARTA TIMUR"
      ],
      "metadata": {
        "id": "wUJm706QXJ2z"
      }
    },
    {
      "cell_type": "code",
      "source": [
        "df_perempuan_pns_jaktim = df[\n",
        "    (df['jenis_kelamin'].str.lower() == 'perempuan') &\n",
        "    (df['pekerjaan'].str.lower().str.contains('pegawai negeri', na=False)) &\n",
        "    (df['kelurahan'].str.lower().str.contains('jakarta timur', na=False))\n",
        "]\n",
        "jumlah_penduduk_perempuan_pns_jaktim = df_perempuan_pns_jaktim['jumlah'].sum()\n",
        "print(f\"Jumlah penduduk PEREMPUAN yang adalah Pegawai Negeri Sipil dan tinggal di JAKARTA TIMUR: {jumlah_penduduk_perempuan_pns_jaktim}\")"
      ],
      "metadata": {
        "id": "3yMP3VTIW9Ws",
        "colab": {
          "base_uri": "https://localhost:8080/"
        },
        "outputId": "b43e12a7-a52f-42ce-c3c2-b61379a4e04c"
      },
      "execution_count": 49,
      "outputs": [
        {
          "output_type": "stream",
          "name": "stdout",
          "text": [
            "Jumlah penduduk PEREMPUAN yang adalah Pegawai Negeri Sipil dan tinggal di JAKARTA TIMUR: 0\n"
          ]
        }
      ]
    },
    {
      "cell_type": "markdown",
      "metadata": {
        "id": "_TSm_oFMkOl4"
      },
      "source": [
        "#### Berapa rata-rata jumlah PEREMPUAN per masing-masing kecamatan"
      ]
    },
    {
      "cell_type": "code",
      "metadata": {
        "id": "nS4ek1rjkOl5",
        "colab": {
          "base_uri": "https://localhost:8080/",
          "height": 1000
        },
        "outputId": "a516be19-66a0-409e-cdca-616e8a4f3b36"
      },
      "source": [
        "rata_rata_perempuan_per_kecamatan = df[df['jenis_kelamin'] == 'PEREMPUAN'].groupby('kecamatan')['jumlah'].mean()\n",
        "rata_rata_perempuan_per_kecamatan"
      ],
      "execution_count": 45,
      "outputs": [
        {
          "output_type": "execute_result",
          "data": {
            "text/plain": [
              "kecamatan\n",
              "CAKUNG                      109.666667\n",
              "CEMPAKA PUTIH                56.574468\n",
              "CENGKARENG                  130.428571\n",
              "CILANDAK                     62.782427\n",
              "CILINCING                   103.444444\n",
              "CIPAYUNG                     46.898773\n",
              "CIRACAS                      93.656716\n",
              "DUREN SAWIT                  90.897351\n",
              "GAMBIR                       41.300926\n",
              "GROGOL PETAMBURAN            64.066202\n",
              "JAGAKARSA                    76.955556\n",
              "JATINEGARA                   72.924925\n",
              "JOHAR BARU                   62.200000\n",
              "KALI DERES                  110.168889\n",
              "KEBAYORAN BARU               30.685864\n",
              "KEBAYORAN LAMA               82.511450\n",
              "KEBON JERUK                  69.256410\n",
              "KELAPA GADING                77.522727\n",
              "KEMAYORAN                    64.525000\n",
              "KEMBANGAN                    63.375000\n",
              "KEPULAUAN SERIBU SELATAN      8.045455\n",
              "KEPULAUAN SERIBU UTARA       10.681159\n",
              "KOJA                         98.189300\n",
              "KRAMATJATI                   72.880137\n",
              "MAKASAR                      68.452128\n",
              "MAMPANG PRAPATAN             60.701657\n",
              "MATRAMAN                     63.115702\n",
              "MENTENG                      37.185000\n",
              "PADEMANGAN                   97.710938\n",
              "PAL MERAH                    60.944000\n",
              "PANCORAN                     48.896000\n",
              "PASAR MINGGU                 69.908497\n",
              "PASAR REBO                   60.458128\n",
              "PENJARINGAN                 101.636771\n",
              "PESANGGRAHAN                 73.655814\n",
              "PULO GADUNG                  74.176849\n",
              "S E N E N                    48.401709\n",
              "SAWAH BESAR                  67.698925\n",
              "SETIA BUDI                   36.614232\n",
              "TAMAN SARI                   47.534884\n",
              "TAMBORA                      54.448276\n",
              "TANAH ABANG                  56.407407\n",
              "TANJUNG PRIOK                97.175084\n",
              "TEBET                        64.844828\n",
              "Name: jumlah, dtype: float64"
            ],
            "text/html": [
              "<div>\n",
              "<style scoped>\n",
              "    .dataframe tbody tr th:only-of-type {\n",
              "        vertical-align: middle;\n",
              "    }\n",
              "\n",
              "    .dataframe tbody tr th {\n",
              "        vertical-align: top;\n",
              "    }\n",
              "\n",
              "    .dataframe thead th {\n",
              "        text-align: right;\n",
              "    }\n",
              "</style>\n",
              "<table border=\"1\" class=\"dataframe\">\n",
              "  <thead>\n",
              "    <tr style=\"text-align: right;\">\n",
              "      <th></th>\n",
              "      <th>jumlah</th>\n",
              "    </tr>\n",
              "    <tr>\n",
              "      <th>kecamatan</th>\n",
              "      <th></th>\n",
              "    </tr>\n",
              "  </thead>\n",
              "  <tbody>\n",
              "    <tr>\n",
              "      <th>CAKUNG</th>\n",
              "      <td>109.666667</td>\n",
              "    </tr>\n",
              "    <tr>\n",
              "      <th>CEMPAKA PUTIH</th>\n",
              "      <td>56.574468</td>\n",
              "    </tr>\n",
              "    <tr>\n",
              "      <th>CENGKARENG</th>\n",
              "      <td>130.428571</td>\n",
              "    </tr>\n",
              "    <tr>\n",
              "      <th>CILANDAK</th>\n",
              "      <td>62.782427</td>\n",
              "    </tr>\n",
              "    <tr>\n",
              "      <th>CILINCING</th>\n",
              "      <td>103.444444</td>\n",
              "    </tr>\n",
              "    <tr>\n",
              "      <th>CIPAYUNG</th>\n",
              "      <td>46.898773</td>\n",
              "    </tr>\n",
              "    <tr>\n",
              "      <th>CIRACAS</th>\n",
              "      <td>93.656716</td>\n",
              "    </tr>\n",
              "    <tr>\n",
              "      <th>DUREN SAWIT</th>\n",
              "      <td>90.897351</td>\n",
              "    </tr>\n",
              "    <tr>\n",
              "      <th>GAMBIR</th>\n",
              "      <td>41.300926</td>\n",
              "    </tr>\n",
              "    <tr>\n",
              "      <th>GROGOL PETAMBURAN</th>\n",
              "      <td>64.066202</td>\n",
              "    </tr>\n",
              "    <tr>\n",
              "      <th>JAGAKARSA</th>\n",
              "      <td>76.955556</td>\n",
              "    </tr>\n",
              "    <tr>\n",
              "      <th>JATINEGARA</th>\n",
              "      <td>72.924925</td>\n",
              "    </tr>\n",
              "    <tr>\n",
              "      <th>JOHAR BARU</th>\n",
              "      <td>62.200000</td>\n",
              "    </tr>\n",
              "    <tr>\n",
              "      <th>KALI DERES</th>\n",
              "      <td>110.168889</td>\n",
              "    </tr>\n",
              "    <tr>\n",
              "      <th>KEBAYORAN BARU</th>\n",
              "      <td>30.685864</td>\n",
              "    </tr>\n",
              "    <tr>\n",
              "      <th>KEBAYORAN LAMA</th>\n",
              "      <td>82.511450</td>\n",
              "    </tr>\n",
              "    <tr>\n",
              "      <th>KEBON JERUK</th>\n",
              "      <td>69.256410</td>\n",
              "    </tr>\n",
              "    <tr>\n",
              "      <th>KELAPA GADING</th>\n",
              "      <td>77.522727</td>\n",
              "    </tr>\n",
              "    <tr>\n",
              "      <th>KEMAYORAN</th>\n",
              "      <td>64.525000</td>\n",
              "    </tr>\n",
              "    <tr>\n",
              "      <th>KEMBANGAN</th>\n",
              "      <td>63.375000</td>\n",
              "    </tr>\n",
              "    <tr>\n",
              "      <th>KEPULAUAN SERIBU SELATAN</th>\n",
              "      <td>8.045455</td>\n",
              "    </tr>\n",
              "    <tr>\n",
              "      <th>KEPULAUAN SERIBU UTARA</th>\n",
              "      <td>10.681159</td>\n",
              "    </tr>\n",
              "    <tr>\n",
              "      <th>KOJA</th>\n",
              "      <td>98.189300</td>\n",
              "    </tr>\n",
              "    <tr>\n",
              "      <th>KRAMATJATI</th>\n",
              "      <td>72.880137</td>\n",
              "    </tr>\n",
              "    <tr>\n",
              "      <th>MAKASAR</th>\n",
              "      <td>68.452128</td>\n",
              "    </tr>\n",
              "    <tr>\n",
              "      <th>MAMPANG PRAPATAN</th>\n",
              "      <td>60.701657</td>\n",
              "    </tr>\n",
              "    <tr>\n",
              "      <th>MATRAMAN</th>\n",
              "      <td>63.115702</td>\n",
              "    </tr>\n",
              "    <tr>\n",
              "      <th>MENTENG</th>\n",
              "      <td>37.185000</td>\n",
              "    </tr>\n",
              "    <tr>\n",
              "      <th>PADEMANGAN</th>\n",
              "      <td>97.710938</td>\n",
              "    </tr>\n",
              "    <tr>\n",
              "      <th>PAL MERAH</th>\n",
              "      <td>60.944000</td>\n",
              "    </tr>\n",
              "    <tr>\n",
              "      <th>PANCORAN</th>\n",
              "      <td>48.896000</td>\n",
              "    </tr>\n",
              "    <tr>\n",
              "      <th>PASAR MINGGU</th>\n",
              "      <td>69.908497</td>\n",
              "    </tr>\n",
              "    <tr>\n",
              "      <th>PASAR REBO</th>\n",
              "      <td>60.458128</td>\n",
              "    </tr>\n",
              "    <tr>\n",
              "      <th>PENJARINGAN</th>\n",
              "      <td>101.636771</td>\n",
              "    </tr>\n",
              "    <tr>\n",
              "      <th>PESANGGRAHAN</th>\n",
              "      <td>73.655814</td>\n",
              "    </tr>\n",
              "    <tr>\n",
              "      <th>PULO GADUNG</th>\n",
              "      <td>74.176849</td>\n",
              "    </tr>\n",
              "    <tr>\n",
              "      <th>S E N E N</th>\n",
              "      <td>48.401709</td>\n",
              "    </tr>\n",
              "    <tr>\n",
              "      <th>SAWAH BESAR</th>\n",
              "      <td>67.698925</td>\n",
              "    </tr>\n",
              "    <tr>\n",
              "      <th>SETIA BUDI</th>\n",
              "      <td>36.614232</td>\n",
              "    </tr>\n",
              "    <tr>\n",
              "      <th>TAMAN SARI</th>\n",
              "      <td>47.534884</td>\n",
              "    </tr>\n",
              "    <tr>\n",
              "      <th>TAMBORA</th>\n",
              "      <td>54.448276</td>\n",
              "    </tr>\n",
              "    <tr>\n",
              "      <th>TANAH ABANG</th>\n",
              "      <td>56.407407</td>\n",
              "    </tr>\n",
              "    <tr>\n",
              "      <th>TANJUNG PRIOK</th>\n",
              "      <td>97.175084</td>\n",
              "    </tr>\n",
              "    <tr>\n",
              "      <th>TEBET</th>\n",
              "      <td>64.844828</td>\n",
              "    </tr>\n",
              "  </tbody>\n",
              "</table>\n",
              "</div><br><label><b>dtype:</b> float64</label>"
            ]
          },
          "metadata": {},
          "execution_count": 45
        }
      ]
    }
  ]
}